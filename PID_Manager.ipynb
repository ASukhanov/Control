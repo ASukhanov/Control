{
 "cells": [
  {
   "cell_type": "markdown",
   "metadata": {},
   "source": [
    "# PID Manager\n",
    "\n",
    "## A Little Bit Of Control System Theory\n",
    "\n",
    "### Second Order System\n",
    "Wide range of the practical Linear Time-Continuous Systems belongs to a class of **second order systems**, which behavior can be described using order differential expression\n",
    "\n",
    "$m\\ddot{x}(t) + b\\dot{x}(t) + kx(t) = u(t)$  \n",
    "    Where x is state varible, u(t): input (external force) \n",
    "\n",
    "- Spring mass system, damped harmonic oscillator: x: position, m: mass, b: = damping coefficient, k: spring constant\n",
    "- RLC elecrical circuit: x: voltage accross capacitor, m = LC, b = RC, k = 1, u(t) applied voltage\n",
    "\n",
    "Note the steady state position $x(\\infty) = \\frac u k$\n",
    "\n",
    "$\\omega_0 = \\sqrt \\frac k m$,  damping ratio: $\\zeta  = \\frac b {2 \\sqrt {mk}}$ >1: overdamped, <1: underdamped\n",
    "\n",
    "#### Transfer function\n",
    "The transfer function of the system: $TF=\\frac {Output} {Input}$\n",
    "\n",
    "It is convenient to use Laplace transform ($s=\\sigma + j \\omega$), then the transfer function of the second order system:\n",
    "$ TF_{mbk} = \\frac {x(t)} {u(t)} = \\frac 1 {ms^2 +bs + k}$\n",
    "\n",
    "### Practical special cases of the Second Order System:\n",
    "#### Zero order system (m=0, b=0): $kx(t) = u(t)$\n",
    "* **Amplifier**, gain = 1/k, $TF: \\frac 1 k$\n",
    "\n",
    "#### First order system (m=0): $b\\dot{x}(t) + kx(t) = u(t)$\n",
    "* **Amplified low pass filter**: \n",
    "$TF=\\frac 1 {bs + k}$ or $G \\frac 1 {{\\tau}s + 1}$, Gain $G=\\frac 1 k$, and $\\tau=bG$ is the *filter time constant*.\n",
    "\n",
    "* **RC filter**: $RC \\cdot {\\dot{x}(t) + x(t)} = u(t)$, $TF = \\frac 1 {RC\\cdot s + 1}$\n",
    "\n",
    "## PID Controller\n",
    "\n",
    "*Ideal Form* of the PID Controller:\n",
    "<img src=\"PID.PNG\" width=\"400\"/>\n",
    "\n",
    "$u(t) = K_p e(t) + K_i \\int {e(t)dt} + K_d \\frac {de(t)} {dt}$\n",
    "\n",
    "In the standard form of the equation $K_i$ and $K_d$ are respectively replaced by $\\frac {K_p} {T_i}$ and $K_p T_d$; the advantage of this being that $T_i, T_d$ have some understandable physical meaning, as they represent the integration time and the derivative time respectively.\n",
    "\n",
    "Transfer function of PID with TF=H and and a plant fith TF=G: $G=\\frac{GH}{GH+1}$\n",
    "\n",
    "TF of PID: $\\frac{K_ds^2+K_ps+K_i}s$\n",
    "\n",
    "### Transfer function of the PID controlling a second order system\n",
    "$\\frac {K_ds^2+K_ps+K_i} {ms^3+(b+K_d)s^2+(k+K_p)s+K_i}$ \n",
    "\n",
    "### Staility criterion (from the Control Theory):\n",
    "\n",
    "The system is stable if complex poles of the transfer function have negative real part.\n",
    "\n",
    "\n",
    "## Practical example\n",
    "\n",
    "### Plant is an amplifier (m=0, b=0, gain = 1/k). \n",
    "TF = $\\frac {K_ds^2+K_ps+K_i} {K_ds^2+(k+K_p)s+K_i}$ \n",
    "\n",
    "The stable system can be achieved with $K_p=0, K_d=0$ and $TF=\\frac {K_i} {ks+K_i}$\n",
    "\n",
    "Indeed, the pole is $-\\frac {K_i} k$ and the system is stable.\n",
    "\n",
    "#### Conclusion\n",
    "The amplifier (zero order system) can be stabilized using PID with only I term.\n",
    "*The $K_i$ should be selected, based on desired settling time $K_i = \\frac 1 {\\tau_s}$\n",
    "\n",
    "\n"
   ]
  },
  {
   "cell_type": "code",
   "execution_count": 29,
   "metadata": {},
   "outputs": [],
   "source": [
    "%matplotlib inline\n",
    "import matplotlib.pyplot as plt\n",
    "import numpy as np\n",
    "from scipy import signal\n",
    "import pid_utils as pu"
   ]
  },
  {
   "cell_type": "code",
   "execution_count": 71,
   "metadata": {},
   "outputs": [
    {
     "data": {
      "text/plain": [
       "<module 'pid_utils' from 'C:\\\\Users\\\\User\\\\github\\\\Control\\\\pid_utils.py'>"
      ]
     },
     "execution_count": 71,
     "metadata": {},
     "output_type": "execute_result"
    }
   ],
   "source": [
    "import imp # this is for python3\n",
    "imp.reload(pu)"
   ]
  },
  {
   "cell_type": "code",
   "execution_count": 73,
   "metadata": {},
   "outputs": [
    {
     "name": "stdout",
     "output_type": "stream",
     "text": [
      "controller:PI/I, zeros,poles,gain:\n",
      " (array([], dtype=float64), array([-1.]), 1.0)\n"
     ]
    },
    {
     "data": {
      "image/png": "[encoded data removed]",
      "text/plain": [
       "<matplotlib.figure.Figure at 0xb93903c3c8>"
      ]
     },
     "metadata": {},
     "output_type": "display_data"
    }
   ],
   "source": [
    "mbk = 0., 0., 1.\n",
    "t = np.linspace(0, 40,101)\n",
    "tout, y = signal.step(pu.spring_mass_system(mbk),T=t)\n",
    "plt.plot(tout, y, label='mbk '+str(mbk))\n",
    "pid = [0.,1.,0.]\n",
    "tout, y3 = signal.step(pu.pid_spring_mass(mbk,pid), T=t)\n",
    "plt.plot(tout, y3, label='pid-mbk '+str((pid,mbk)))\n",
    "plt.legend(loc='lower right', frameon=False)\n",
    "plt.show()\n"
   ]
  },
  {
   "cell_type": "code",
   "execution_count": null,
   "metadata": {},
   "outputs": [],
   "source": []
  }
 ],
 "metadata": {
  "kernelspec": {
   "display_name": "Python 3",
   "language": "python",
   "name": "python3"
  },
  "language_info": {
   "codemirror_mode": {
    "name": "ipython",
    "version": 3
   },
   "file_extension": ".py",
   "mimetype": "text/x-python",
   "name": "python",
   "nbconvert_exporter": "python",
   "pygments_lexer": "ipython3",
   "version": "3.6.4"
  }
 },
 "nbformat": 4,
 "nbformat_minor": 2
}
