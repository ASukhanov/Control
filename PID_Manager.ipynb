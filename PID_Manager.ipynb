{
 "cells": [
  {
   "cell_type": "markdown",
   "metadata": {},
   "source": [
    "# PID Manager\n",
    "\n",
    "## A Little Bit Of Control System Theory\n",
    "\n",
    "### Second Order System\n",
    "Wide range of the practical Linear Time-Continuous Systems belongs to a class of **second order systems**, which behavior can be described using order differential expression\n",
    "\n",
    "$m\\ddot{x}(t) + b\\dot{x}(t) + kx(t) = u(t)$  \n",
    "    Where x is state varible, u(t): input (external force) \n",
    "\n",
    "- Spring mass system, damped harmonic oscillator: x: position, m: mass, b: = damping coefficient, k: spring constant\n",
    "- RLC elecrical circuit: x: voltage accross capacitor, m = LC, b = RC, k = 1, u(t) applied voltage\n",
    "\n",
    "Note the steady state position $x(\\infty) = \\frac u k$\n",
    "\n",
    "$\\omega_0 = \\sqrt \\frac k m$,  damping ratio: $\\zeta  = \\frac b {2 \\sqrt {mk}}$ >1: overdamped, <1: underdamped\n",
    "\n",
    "#### Transfer function\n",
    "The transfer function of the system: $TF=\\frac {Output} {Input}$\n",
    "\n",
    "It is convenient to use Laplace transform ($s=\\sigma + j \\omega$), then the transfer function of the second order system:\n",
    "$ TF_{mbk} = \\frac {x(t)} {u(t)} = \\frac 1 {ms^2 +bs + k}$\n",
    "\n",
    "### Practical special cases of the Second Order System:\n",
    "#### Zero order system (m=0, b=0): $kx(t) = u(t)$\n",
    "* **Amplifier**, gain = 1/k, $TF: \\frac 1 k$\n",
    "\n",
    "#### First order system (m=0): $b\\dot{x}(t) + kx(t) = u(t)$\n",
    "* **Amplified low pass filter**: \n",
    "$TF=\\frac 1 {bs + k}$ or $G \\frac 1 {{\\tau}s + 1}$, Gain $G=\\frac 1 k$, and $\\tau=bG$ is the *filter time constant*.\n",
    "\n",
    "* **RC filter**: $RC \\cdot {\\dot{x}(t) + x(t)} = u(t)$, $TF = \\frac 1 {RC\\cdot s + 1}$\n",
    "\n",
    "## PID Controller\n",
    "\n",
    "*Ideal Form* of the PID Controller:\n",
    "<img src=\"PID.PNG\" width=\"400\"/>\n",
    "\n",
    "$u(t) = K_p e(t) + K_i \\int {e(t)dt} + K_d \\frac {de(t)} {dt}$\n",
    "\n",
    "In the standard form of the equation $K_i$ and $K_d$ are respectively replaced by $\\frac {K_p} {T_i}$ and $K_p T_d$; the advantage of this being that $T_i, T_d$ have some understandable physical meaning, as they represent the integration time and the derivative time respectively.\n",
    "\n",
    "Transfer function of PID with TF=H and and a plant fith TF=G: $G=\\frac{GH}{GH+1}$\n",
    "\n",
    "TF of PID: $\\frac{K_ds^2+K_ps+K_i}s$\n",
    "\n",
    "### Transfer function of the PID controlling a second order system\n",
    "$\\frac {K_ds^2+K_ps+K_i} {ms^3+(b+K_d)s^2+(k+K_p)s+K_i}$ \n",
    "\n",
    "### Staility criterion (from the Control Theory):\n",
    "\n",
    "The system is stable if complex poles of the transfer function have negative real part.\n",
    "\n",
    "\n",
    "## Practical example\n",
    "\n",
    "### Plant is an amplifier (m=0, b=0, gain = 1/k). \n",
    "TF = $\\frac {K_ds^2+K_ps+K_i} {K_ds^2+(k+K_p)s+K_i}$ \n",
    "\n",
    "The stable system can be achieved with $K_p=0, K_d=0$, then $TF=\\frac {K_i} {ks+K_i}$\n",
    "\n",
    "Indeed, the pole is negative: $-\\frac {K_i} k$ and the system is stable.\n",
    "\n",
    "#### Conclusion\n",
    "The amplifier (zero order system) can be stabilized using PID with only I term.\n",
    "\n",
    "The $K_i$ should be selected based on desired settling time $K_i = \\frac 1 {\\tau_s}$\n",
    "\n",
    "#### Step response of an amplifier with I-controller"
   ]
  },
  {
   "cell_type": "code",
   "execution_count": 38,
   "metadata": {
    "collapsed": true
   },
   "outputs": [],
   "source": [
    "%matplotlib inline\n",
    "import matplotlib.pyplot as plt\n",
    "import numpy as np\n",
    "from scipy import signal\n",
    "import pid_utils as pu"
   ]
  },
  {
   "cell_type": "code",
   "execution_count": 2,
   "metadata": {
    "collapsed": false
   },
   "outputs": [
    {
     "data": {
      "text/plain": [
       "<module 'pid_utils' from 'pid_utils.pyc'>"
      ]
     },
     "execution_count": 2,
     "metadata": {},
     "output_type": "execute_result"
    }
   ],
   "source": [
    "import imp # this is for python3\n",
    "imp.reload(pu)"
   ]
  },
  {
   "cell_type": "code",
   "execution_count": 3,
   "metadata": {
    "collapsed": false
   },
   "outputs": [
    {
     "name": "stdout",
     "output_type": "stream",
     "text": [
      "controller:PI/I, zeros,poles,gain:\n",
      " (array([], dtype=float64), array([-1.]), 1.0)\n"
     ]
    },
    {
     "data": {
      "image/png": "[encoded data removed]",
      "text/plain": [
       "<matplotlib.figure.Figure at 0x7fa2c5db26d0>"
      ]
     },
     "metadata": {},
     "output_type": "display_data"
    }
   ],
   "source": [
    "mbk = 0., 0., 1.\n",
    "t = np.linspace(0, 40,101)\n",
    "tout, y = signal.step(pu.spring_mass_system(mbk),T=t)\n",
    "plt.plot(tout, y, label='mbk '+str(mbk))\n",
    "pid = [0.,1.,0.]\n",
    "tout, y3 = signal.step(pu.pid_spring_mass(mbk,pid), T=t)\n",
    "plt.plot(tout, y3, label='pid-mbk '+str((pid,mbk)))\n",
    "plt.legend(loc='lower right', frameon=False)\n",
    "plt.show()"
   ]
  },
  {
   "cell_type": "code",
   "execution_count": 44,
   "metadata": {
    "collapsed": false
   },
   "outputs": [
    {
     "name": "stdout",
     "output_type": "stream",
     "text": [
      "zpk:(array([], dtype=float64), array([-0.25+0.96824584j, -0.25-0.96824584j]), 1.0)\n",
      "pid:(2, 1, 2.5)\n",
      "controller:PID, zeros,poles,gain:\n",
      " (array([-0.4+0.48989795j, -0.4-0.48989795j]), array([-0.99999672 +5.68937417e-06j, -0.99999672 -5.68937417e-06j,\n",
      "       -1.00000657 +0.00000000e+00j]), 2.5)\n"
     ]
    },
    {
     "data": {
      "image/png": "[encoded data removed]",
      "text/plain": [
       "<matplotlib.figure.Figure at 0x7fa298e99a90>"
      ]
     },
     "metadata": {},
     "output_type": "display_data"
    }
   ],
   "source": [
    "mbk = 1,0.5,1 # given system\n",
    "p = -1,-1,-1 # desired poles\n",
    "t = np.linspace(0, 25,101)\n",
    "ts, ys = signal.step(pu.spring_mass_system(mbk),T=t)\n",
    "print('zpk:'+str(signal.tf2zpk([1],mbk)))\n",
    "plt.plot(ts, ys, label='mbk'+str(mbk))\n",
    "pid = pu.poles2pid(mbk,p)\n",
    "print('pid:'+str(pid))\n",
    "tp, yp = signal.step(pu.pid_spring_mass(mbk,pid),T=t)\n",
    "plt.plot(tp, yp, label='pid-mbk '+str((pid,mbk)))\n",
    "plt.legend(loc='lower right', frameon=False)\n",
    "plt.show()"
   ]
  },
  {
   "cell_type": "code",
   "execution_count": 43,
   "metadata": {
    "collapsed": false
   },
   "outputs": [
    {
     "data": {
      "text/plain": [
       "<module 'pid_utils' from 'pid_utils.py'>"
      ]
     },
     "execution_count": 43,
     "metadata": {},
     "output_type": "execute_result"
    }
   ],
   "source": [
    "reload(pu)"
   ]
  },
  {
   "cell_type": "code",
   "execution_count": null,
   "metadata": {
    "collapsed": true
   },
   "outputs": [],
   "source": []
  }
 ],
 "metadata": {
  "kernelspec": {
   "display_name": "Python 2",
   "language": "python",
   "name": "python2"
  },
  "language_info": {
   "codemirror_mode": {
    "name": "ipython",
    "version": 2
   },
   "file_extension": ".py",
   "mimetype": "text/x-python",
   "name": "python",
   "nbconvert_exporter": "python",
   "pygments_lexer": "ipython2",
   "version": "2.7.14"
  }
 },
 "nbformat": 4,
 "nbformat_minor": 2
}
